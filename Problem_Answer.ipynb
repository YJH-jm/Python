{
 "cells": [
  {
   "cell_type": "markdown",
   "metadata": {},
   "source": [
    "# 21.05.18"
   ]
  },
  {
   "cell_type": "markdown",
   "metadata": {},
   "source": [
    "## 문제 1\n",
    "\n",
    "두 개의 숫자를 입력받는다. \n",
    "두 숫자는 문자열로 입력이 받아지는데 \n",
    "\n",
    "\"999\" -> [9, 9, 9]\n",
    "\"998\" -> [9, 9, 8]\n",
    "\n",
    "위에 예시처럼 각자리의 숫자를 정수로 변환하여 list로 각 자리를 받아 계산하여라. \n",
    "\n",
    "(문제를 풀 때, int() 함수를 사용하지 않음 즉, 형변환을 진행하지 않음)\n",
    "\n",
    "입력 예시 \n",
    ":\n",
    "\n",
    "첫번째 숫자 입력 : 1234<br>\n",
    "두번째 숫자 입력 : 99999\n",
    "\n",
    "출력예시\n",
    ":\n",
    "\n",
    "101233\n"
   ]
  },
  {
   "cell_type": "code",
   "execution_count": 2,
   "metadata": {},
   "outputs": [
    {
     "name": "stdout",
     "output_type": "stream",
     "text": [
      "첫번째 숫자 입력 : 12929292929\n",
      "두번째 숫자 입력 : 2\n",
      "12929292931"
     ]
    }
   ],
   "source": [
    "str_A = input(\"첫번째 숫자 입력 : \")  # \"123456\"\n",
    "str_B = input(\"두번째 숫자 입력 : \")  # \"123\"\n",
    "num_A = []\n",
    "num_B = []\n",
    "\n",
    "# 아스키코드 값의 차이로 string -> int로 바꾸는 과정\n",
    "#\"123456\"-> [1, 2, 3, 4, 5, 6] 으로 바뀜\n",
    "for char in str_A:\n",
    "    tmp= ord(char) - ord('0') # \"6\" - > 6\n",
    "    num_A.append(tmp)\n",
    "    \n",
    "    \n",
    "for char in str_B:\n",
    "    tmp= ord(char) - ord('0')\n",
    "    num_B.append(tmp)\n",
    "\n",
    "# 두 숫자 중에 자리수가 더 큰 수를 알아보기 위해 얻음\n",
    "len_A = len(num_A)\n",
    "len_B = len(num_B)\n",
    "\n",
    "num_max = []\n",
    "num_min = []\n",
    "result = []\n",
    "\n",
    "# 큰 수와 작은 수를 지정\n",
    "# 자리수가 같은 경우는 구분해줄 필요 없음\n",
    "if len_A >= len_B:\n",
    "    len_max = len_A\n",
    "    num_max = num_A\n",
    "    \n",
    "    len_min = len_B\n",
    "    num_min = num_B\n",
    "\n",
    "else:\n",
    "    len_max = len_B\n",
    "    num_max = num_B\n",
    "    \n",
    "    len_min = len_A\n",
    "    num_min = num_A\n",
    "    \n",
    "# [1, 2, 3, 4, 5, 6] -> [0, 1, 2, 3, 4, 5, 6]\n",
    "num_max.insert(0, 0)\n",
    "\n",
    "# 계산을 맞춰주기 위해 [1, 2, 3] - [0, 0, 0, 0, 1, 2, 3]으로 만들어줌\n",
    "for index in range(len_max-len_min+1):\n",
    "    num_min.insert(0, 0)\n",
    "len_max = len(num_max)\n",
    "len_min = len(num_min)\n",
    "for index in range(len_max-1, -1, -1):\n",
    "    if num_min[index] + num_max[index] >= 10: # 대응되는 index의 값들이 10보다 크거나 같으면 1올림\n",
    "        tmp = num_min[index] + num_max[index] - 10\n",
    "        num_max[index-1] += 1\n",
    "        result.insert(0, tmp)\n",
    "    else:\n",
    "        result.insert(0, num_max[index] + num_min[index])\n",
    "\n",
    "        \n",
    "for index in range(len(result)):\n",
    "    if result[index] != 0:\n",
    "        for j in range(index, len(result)):\n",
    "            print(result[j], end = '')\n",
    "        break"
   ]
  },
  {
   "cell_type": "markdown",
   "metadata": {},
   "source": [
    "## 문제 2\n",
    "\n",
    "띄어쓰기를 기준으로 한 단어라고 가정한다면, 주어진 노래 데이터에서 각 단어가 나오는 횟수와 단어의 총 개수를 출력하라.\n",
    "\n",
    "\n",
    "data = '''내 속엔 내가 너무도 많아 당신의 쉴 곳 없네\n",
    "내 속엔 헛된바램들로 당신의 편할 곳 없네\n",
    "내 속엔 내가 어쩔 수 없는 어둠 당신의 쉴 자리를 뺏고\n",
    "내 속엔 내가 이길 수 없는 슬픔 무성한 가시나무숲같네\n",
    "\n",
    "바람만 불면 그 메마른가지 서로 부대끼며 울어대고\n",
    "쉴곳을 찾아 지쳐 날아온 어린새들도 가시에 찔려 날아가고\n",
    "바람만 불면 외롭고 또 괴로워 슬픈 노래를 부르던 날이 많았는데\n",
    "\n",
    "내 속엔 내가 너무도 많아서 당신의 쉴 곳 없네\n",
    "\n",
    "\n",
    "바람만 불면 그 메마른가지 서로 부대끼며 울어대고\n",
    "쉴곳을 찾아 지쳐 날아온 어린새들도 가시에 찔려 날아가고\n",
    "바람만 불면 외롭고 또 괴로워 슬픈 노래를 부르던 날이 많았는데\n",
    "\n",
    "내 속엔 내가 너무도 많아서 당신의 쉴 곳 없네'''\n",
    "\n"
   ]
  },
  {
   "cell_type": "code",
   "execution_count": 8,
   "metadata": {},
   "outputs": [
    {
     "name": "stdout",
     "output_type": "stream",
     "text": [
      "47\n",
      "{'내': 6, '속엔': 6, '내가': 5, '너무도': 3, '많아': 1, '당신의': 5, '쉴': 4, '곳': 4, '없네': 3, '헛된': 1, '바램들로': 1, '편할': 1, '어쩔': 1, '수': 2, '없는': 2, '어둠': 1, '자리를': 1, '뺏고': 1, '이길': 1, '슬픔': 1, '무성한': 1, '가시나무숲같네': 1, '': 5, '바람만': 4, '불면': 4, '그': 2, '메마른가지': 2, '서로': 2, '부대끼며': 2, '울어대고': 2, '쉴곳을': 2, '찾아': 2, '지쳐': 2, '날아온': 2, '어린새들도': 2, '가시에': 2, '찔려': 2, '날아가고': 2, '외롭고': 2, '또': 2, '괴로워': 2, '슬픈': 2, '노래를': 2, '부르던': 2, '날이': 2, '많았는데': 2, '많아서': 2}\n"
     ]
    }
   ],
   "source": [
    "data = '''내 속엔 내가 너무도 많아 당신의 쉴 곳 없네\n",
    "내 속엔 헛된 바램들로 당신의 편할 곳 없네\n",
    "내 속엔 내가 어쩔 수 없는 어둠 당신의 쉴 자리를 뺏고\n",
    "내 속엔 내가 이길 수 없는 슬픔 무성한 가시나무숲같네\n",
    "\n",
    "바람만 불면 그 메마른가지 서로 부대끼며 울어대고\n",
    "쉴곳을 찾아 지쳐 날아온 어린새들도 가시에 찔려 날아가고\n",
    "바람만 불면 외롭고 또 괴로워 슬픈 노래를 부르던 날이 많았는데\n",
    "\n",
    "내 속엔 내가 너무도 많아서 당신의 쉴 곳 없네\n",
    "\n",
    "\n",
    "바람만 불면 그 메마른가지 서로 부대끼며 울어대고\n",
    "쉴곳을 찾아 지쳐 날아온 어린새들도 가시에 찔려 날아가고\n",
    "바람만 불면 외롭고 또 괴로워 슬픈 노래를 부르던 날이 많았는데\n",
    "\n",
    "내 속엔 내가 너무도 많아서 당신의 쉴 곳 없네'''\n",
    "\n",
    "\n",
    "data.strip()\n",
    "word = \"\"\n",
    "dictionary = dict()\n",
    "\n",
    "for char in data:\n",
    "\n",
    "    if char != ' ' and char != '\\n':\n",
    "        word += char\n",
    "    \n",
    "    else:\n",
    "        if word in dictionary:\n",
    "            dictionary[word] += 1\n",
    "        else:\n",
    "            dictionary[word] = 1\n",
    "        word = ''\n",
    "\n",
    "\n",
    "print(len(dictionary))\n",
    "print(dictionary)\n"
   ]
  }
 ],
 "metadata": {
  "kernelspec": {
   "display_name": "Python 3",
   "language": "python",
   "name": "python3"
  },
  "language_info": {
   "codemirror_mode": {
    "name": "ipython",
    "version": 3
   },
   "file_extension": ".py",
   "mimetype": "text/x-python",
   "name": "python",
   "nbconvert_exporter": "python",
   "pygments_lexer": "ipython3",
   "version": "3.8.5"
  }
 },
 "nbformat": 4,
 "nbformat_minor": 4
}
