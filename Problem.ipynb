{
 "cells": [
  {
   "cell_type": "markdown",
   "metadata": {},
   "source": [
    "# 21.05.18"
   ]
  },
  {
   "cell_type": "markdown",
   "metadata": {},
   "source": [
    "## 문제 1\n",
    "\n",
    "두 개의 숫자를 입력받는다. \n",
    "두 숫자는 문자열로 입력이 받아지는데 \n",
    "\n",
    "\"999\" -> [9, 9, 9]\n",
    "\"998\" -> [9, 9, 8]\n",
    "\n",
    "위에 예시처럼 각자리의 숫자를 정수로 변환하여 list로 각 자리를 받아 계산하여라. \n",
    "\n",
    "(문제를 풀 때, int()의 형변환을 진행하지 않음)\n",
    "\n",
    "입력 예시 \n",
    ":\n",
    "\n",
    "첫번째 숫자 입력 : 1234<br>\n",
    "두번째 숫자 입력 : 99999\n",
    "\n",
    "출력예시\n",
    ":\n",
    "\n",
    "101233\n"
   ]
  },
  {
   "cell_type": "markdown",
   "metadata": {},
   "source": [
    "## 문제 2\n",
    "\n",
    "띄어쓰기를 기준으로 한 단어라고 가정한다면, 주어진 노래 데이터에서 각 단어가 나오는 횟수와 단어의 총 개수를 출력하라.\n",
    "\n",
    "\n",
    "data = '''내 속엔 내가 너무도 많아 당신의 쉴 곳 없네\n",
    "내 속엔 헛된바램들로 당신의 편할 곳 없네\n",
    "내 속엔 내가 어쩔 수 없는 어둠 당신의 쉴 자리를 뺏고\n",
    "내 속엔 내가 이길 수 없는 슬픔 무성한 가시나무숲같네\n",
    "\n",
    "바람만 불면 그 메마른가지 서로 부대끼며 울어대고\n",
    "쉴곳을 찾아 지쳐 날아온 어린새들도 가시에 찔려 날아가고\n",
    "바람만 불면 외롭고 또 괴로워 슬픈 노래를 부르던 날이 많았는데\n",
    "\n",
    "내 속엔 내가 너무도 많아서 당신의 쉴 곳 없네\n",
    "\n",
    "\n",
    "바람만 불면 그 메마른가지 서로 부대끼며 울어대고\n",
    "쉴곳을 찾아 지쳐 날아온 어린새들도 가시에 찔려 날아가고\n",
    "바람만 불면 외롭고 또 괴로워 슬픈 노래를 부르던 날이 많았는데\n",
    "\n",
    "내 속엔 내가 너무도 많아서 당신의 쉴 곳 없네'''\n"
   ]
  }
 ],
 "metadata": {
  "kernelspec": {
   "display_name": "Python 3",
   "language": "python",
   "name": "python3"
  },
  "language_info": {
   "codemirror_mode": {
    "name": "ipython",
    "version": 3
   },
   "file_extension": ".py",
   "mimetype": "text/x-python",
   "name": "python",
   "nbconvert_exporter": "python",
   "pygments_lexer": "ipython3",
   "version": "3.8.5"
  }
 },
 "nbformat": 4,
 "nbformat_minor": 4
}
